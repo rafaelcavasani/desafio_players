{
 "cells": [
  {
   "cell_type": "code",
   "execution_count": 1,
   "metadata": {
    "colab": {},
    "colab_type": "code",
    "id": "-K5dGAJ7_62F"
   },
   "outputs": [],
   "source": [
    "import pandas as pd\n",
    "import json\n",
    "import requests"
   ]
  },
  {
   "cell_type": "markdown",
   "metadata": {
    "colab_type": "text",
    "id": "s8LuPxTLNDTB"
   },
   "source": [
    "# Tratamento dos dados"
   ]
  },
  {
   "cell_type": "markdown",
   "metadata": {
    "colab_type": "text",
    "id": "ivyqHZUvPtsH"
   },
   "source": [
    "## Importando Bases de Dados"
   ]
  },
  {
   "cell_type": "code",
   "execution_count": 2,
   "metadata": {
    "colab": {
     "base_uri": "https://localhost:8080/",
     "height": 411
    },
    "colab_type": "code",
    "id": "BTfDFBIeKAfN",
    "outputId": "7309b213-195b-4c92-ef08-8da53b8051bd"
   },
   "outputs": [],
   "source": [
    "goals = pd.read_csv('goals.csv')\n",
    "matches = pd.read_csv('matches.csv', dtype={\"match_type\": \"category\"})"
   ]
  },
  {
   "cell_type": "markdown",
   "metadata": {
    "colab_type": "text",
    "id": "7a8zx8ytPzDk"
   },
   "source": [
    "## Informações Sobre os Dados - Matches"
   ]
  },
  {
   "cell_type": "code",
   "execution_count": 3,
   "metadata": {
    "colab": {},
    "colab_type": "code",
    "id": "MMYeOXsmQAYP"
   },
   "outputs": [
    {
     "name": "stdout",
     "output_type": "stream",
     "text": [
      "<class 'pandas.core.frame.DataFrame'>\n",
      "RangeIndex: 100000 entries, 0 to 99999\n",
      "Data columns (total 6 columns):\n",
      " #   Column          Non-Null Count   Dtype   \n",
      "---  ------          --------------   -----   \n",
      " 0   match_id        100000 non-null  object  \n",
      " 1   match_type      100000 non-null  category\n",
      " 2   player_1        100000 non-null  object  \n",
      " 3   player_2        100000 non-null  object  \n",
      " 4   match_date      100000 non-null  object  \n",
      " 5   match_duration  100000 non-null  object  \n",
      "dtypes: category(1), object(5)\n",
      "memory usage: 3.9+ MB\n"
     ]
    }
   ],
   "source": [
    "matches.info()"
   ]
  },
  {
   "cell_type": "code",
   "execution_count": 4,
   "metadata": {
    "colab": {},
    "colab_type": "code",
    "id": "C7c23cnDKF6p"
   },
   "outputs": [
    {
     "data": {
      "text/html": [
       "<div>\n",
       "<style scoped>\n",
       "    .dataframe tbody tr th:only-of-type {\n",
       "        vertical-align: middle;\n",
       "    }\n",
       "\n",
       "    .dataframe tbody tr th {\n",
       "        vertical-align: top;\n",
       "    }\n",
       "\n",
       "    .dataframe thead th {\n",
       "        text-align: right;\n",
       "    }\n",
       "</style>\n",
       "<table border=\"1\" class=\"dataframe\">\n",
       "  <thead>\n",
       "    <tr style=\"text-align: right;\">\n",
       "      <th></th>\n",
       "      <th>match_id</th>\n",
       "      <th>match_type</th>\n",
       "      <th>player_1</th>\n",
       "      <th>player_2</th>\n",
       "      <th>match_date</th>\n",
       "      <th>match_duration</th>\n",
       "    </tr>\n",
       "  </thead>\n",
       "  <tbody>\n",
       "    <tr>\n",
       "      <th>27341</th>\n",
       "      <td>M02136636</td>\n",
       "      <td>Casual</td>\n",
       "      <td>VF2F5176</td>\n",
       "      <td>MC4B2517</td>\n",
       "      <td>2020-03-23</td>\n",
       "      <td>00:10:00</td>\n",
       "    </tr>\n",
       "    <tr>\n",
       "      <th>31843</th>\n",
       "      <td>M02141138</td>\n",
       "      <td>Ranked</td>\n",
       "      <td>MS9I7465</td>\n",
       "      <td>LA6F5194</td>\n",
       "      <td>2020-01-20</td>\n",
       "      <td>00:10:00</td>\n",
       "    </tr>\n",
       "    <tr>\n",
       "      <th>4687</th>\n",
       "      <td>M02113982</td>\n",
       "      <td>Ranked</td>\n",
       "      <td>CF9T7117</td>\n",
       "      <td>NV8G8511</td>\n",
       "      <td>2020-05-01</td>\n",
       "      <td>00:10:00</td>\n",
       "    </tr>\n",
       "    <tr>\n",
       "      <th>82000</th>\n",
       "      <td>M02191295</td>\n",
       "      <td>Casual</td>\n",
       "      <td>VJ6B1346</td>\n",
       "      <td>CY4O6595</td>\n",
       "      <td>2020-02-28</td>\n",
       "      <td>00:10:00</td>\n",
       "    </tr>\n",
       "    <tr>\n",
       "      <th>46697</th>\n",
       "      <td>M02155992</td>\n",
       "      <td>Casual</td>\n",
       "      <td>ZP2S8445</td>\n",
       "      <td>CW6Z7132</td>\n",
       "      <td>2019-11-10</td>\n",
       "      <td>00:10:00</td>\n",
       "    </tr>\n",
       "    <tr>\n",
       "      <th>72811</th>\n",
       "      <td>M02182106</td>\n",
       "      <td>Ranked</td>\n",
       "      <td>BW2D9149</td>\n",
       "      <td>HB1E7183</td>\n",
       "      <td>2020-04-18</td>\n",
       "      <td>00:10:00</td>\n",
       "    </tr>\n",
       "    <tr>\n",
       "      <th>41693</th>\n",
       "      <td>M02150988</td>\n",
       "      <td>Ranked</td>\n",
       "      <td>NW0H7923</td>\n",
       "      <td>YH4P8441</td>\n",
       "      <td>2020-09-09</td>\n",
       "      <td>00:10:00</td>\n",
       "    </tr>\n",
       "    <tr>\n",
       "      <th>11093</th>\n",
       "      <td>M02120388</td>\n",
       "      <td>Ranked</td>\n",
       "      <td>IE2F5413</td>\n",
       "      <td>RN2Z9493</td>\n",
       "      <td>2019-09-01</td>\n",
       "      <td>00:10:00</td>\n",
       "    </tr>\n",
       "    <tr>\n",
       "      <th>73408</th>\n",
       "      <td>M02182703</td>\n",
       "      <td>Casual</td>\n",
       "      <td>BD5P6965</td>\n",
       "      <td>HW9R5262</td>\n",
       "      <td>2019-08-25</td>\n",
       "      <td>00:10:00</td>\n",
       "    </tr>\n",
       "    <tr>\n",
       "      <th>50009</th>\n",
       "      <td>M02159304</td>\n",
       "      <td>Ranked</td>\n",
       "      <td>HT9R6714</td>\n",
       "      <td>WD7B3216</td>\n",
       "      <td>2019-10-09</td>\n",
       "      <td>00:10:00</td>\n",
       "    </tr>\n",
       "  </tbody>\n",
       "</table>\n",
       "</div>"
      ],
      "text/plain": [
       "        match_id match_type  player_1  player_2  match_date match_duration\n",
       "27341  M02136636     Casual  VF2F5176  MC4B2517  2020-03-23       00:10:00\n",
       "31843  M02141138     Ranked  MS9I7465  LA6F5194  2020-01-20       00:10:00\n",
       "4687   M02113982     Ranked  CF9T7117  NV8G8511  2020-05-01       00:10:00\n",
       "82000  M02191295     Casual  VJ6B1346  CY4O6595  2020-02-28       00:10:00\n",
       "46697  M02155992     Casual  ZP2S8445  CW6Z7132  2019-11-10       00:10:00\n",
       "72811  M02182106     Ranked  BW2D9149  HB1E7183  2020-04-18       00:10:00\n",
       "41693  M02150988     Ranked  NW0H7923  YH4P8441  2020-09-09       00:10:00\n",
       "11093  M02120388     Ranked  IE2F5413  RN2Z9493  2019-09-01       00:10:00\n",
       "73408  M02182703     Casual  BD5P6965  HW9R5262  2019-08-25       00:10:00\n",
       "50009  M02159304     Ranked  HT9R6714  WD7B3216  2019-10-09       00:10:00"
      ]
     },
     "execution_count": 4,
     "metadata": {},
     "output_type": "execute_result"
    }
   ],
   "source": [
    "matches.sample(10)"
   ]
  },
  {
   "cell_type": "code",
   "execution_count": 5,
   "metadata": {
    "colab": {},
    "colab_type": "code",
    "id": "IlpPaJhqPtAu"
   },
   "outputs": [
    {
     "data": {
      "text/html": [
       "<div>\n",
       "<style scoped>\n",
       "    .dataframe tbody tr th:only-of-type {\n",
       "        vertical-align: middle;\n",
       "    }\n",
       "\n",
       "    .dataframe tbody tr th {\n",
       "        vertical-align: top;\n",
       "    }\n",
       "\n",
       "    .dataframe thead th {\n",
       "        text-align: right;\n",
       "    }\n",
       "</style>\n",
       "<table border=\"1\" class=\"dataframe\">\n",
       "  <thead>\n",
       "    <tr style=\"text-align: right;\">\n",
       "      <th></th>\n",
       "      <th>match_id</th>\n",
       "      <th>match_type</th>\n",
       "      <th>player_1</th>\n",
       "      <th>player_2</th>\n",
       "      <th>match_date</th>\n",
       "      <th>match_duration</th>\n",
       "    </tr>\n",
       "  </thead>\n",
       "  <tbody>\n",
       "    <tr>\n",
       "      <th>count</th>\n",
       "      <td>100000</td>\n",
       "      <td>100000</td>\n",
       "      <td>100000</td>\n",
       "      <td>100000</td>\n",
       "      <td>100000</td>\n",
       "      <td>100000</td>\n",
       "    </tr>\n",
       "    <tr>\n",
       "      <th>unique</th>\n",
       "      <td>100000</td>\n",
       "      <td>2</td>\n",
       "      <td>10000</td>\n",
       "      <td>9998</td>\n",
       "      <td>731</td>\n",
       "      <td>2</td>\n",
       "    </tr>\n",
       "    <tr>\n",
       "      <th>top</th>\n",
       "      <td>M02189151</td>\n",
       "      <td>Casual</td>\n",
       "      <td>VR2K3833</td>\n",
       "      <td>HX3D6186</td>\n",
       "      <td>2019-03-01</td>\n",
       "      <td>00:10:00</td>\n",
       "    </tr>\n",
       "    <tr>\n",
       "      <th>freq</th>\n",
       "      <td>1</td>\n",
       "      <td>50302</td>\n",
       "      <td>24</td>\n",
       "      <td>25</td>\n",
       "      <td>300</td>\n",
       "      <td>94050</td>\n",
       "    </tr>\n",
       "  </tbody>\n",
       "</table>\n",
       "</div>"
      ],
      "text/plain": [
       "         match_id match_type  player_1  player_2  match_date match_duration\n",
       "count      100000     100000    100000    100000      100000         100000\n",
       "unique     100000          2     10000      9998         731              2\n",
       "top     M02189151     Casual  VR2K3833  HX3D6186  2019-03-01       00:10:00\n",
       "freq            1      50302        24        25         300          94050"
      ]
     },
     "execution_count": 5,
     "metadata": {},
     "output_type": "execute_result"
    }
   ],
   "source": [
    "matches.describe()"
   ]
  },
  {
   "cell_type": "code",
   "execution_count": 6,
   "metadata": {
    "colab": {},
    "colab_type": "code",
    "id": "J5r6o6zOOMSe"
   },
   "outputs": [
    {
     "data": {
      "text/html": [
       "<div>\n",
       "<style scoped>\n",
       "    .dataframe tbody tr th:only-of-type {\n",
       "        vertical-align: middle;\n",
       "    }\n",
       "\n",
       "    .dataframe tbody tr th {\n",
       "        vertical-align: top;\n",
       "    }\n",
       "\n",
       "    .dataframe thead th {\n",
       "        text-align: right;\n",
       "    }\n",
       "</style>\n",
       "<table border=\"1\" class=\"dataframe\">\n",
       "  <thead>\n",
       "    <tr style=\"text-align: right;\">\n",
       "      <th></th>\n",
       "      <th>goal_id</th>\n",
       "      <th>match_id</th>\n",
       "      <th>goal_timestamp</th>\n",
       "      <th>player_id</th>\n",
       "    </tr>\n",
       "  </thead>\n",
       "  <tbody>\n",
       "    <tr>\n",
       "      <th>0</th>\n",
       "      <td>1</td>\n",
       "      <td>M02178449</td>\n",
       "      <td>00:09:48</td>\n",
       "      <td>SV4W8695</td>\n",
       "    </tr>\n",
       "    <tr>\n",
       "      <th>1</th>\n",
       "      <td>2</td>\n",
       "      <td>M02201817</td>\n",
       "      <td>00:01:56</td>\n",
       "      <td>WT9P1527</td>\n",
       "    </tr>\n",
       "    <tr>\n",
       "      <th>2</th>\n",
       "      <td>3</td>\n",
       "      <td>M02148361</td>\n",
       "      <td>00:03:48</td>\n",
       "      <td>OI7P6261</td>\n",
       "    </tr>\n",
       "    <tr>\n",
       "      <th>3</th>\n",
       "      <td>4</td>\n",
       "      <td>M02143962</td>\n",
       "      <td>00:06:16</td>\n",
       "      <td>EA3H6562</td>\n",
       "    </tr>\n",
       "    <tr>\n",
       "      <th>4</th>\n",
       "      <td>5</td>\n",
       "      <td>M02152784</td>\n",
       "      <td>00:04:38</td>\n",
       "      <td>UE9C4827</td>\n",
       "    </tr>\n",
       "  </tbody>\n",
       "</table>\n",
       "</div>"
      ],
      "text/plain": [
       "   goal_id   match_id goal_timestamp player_id\n",
       "0        1  M02178449       00:09:48  SV4W8695\n",
       "1        2  M02201817       00:01:56  WT9P1527\n",
       "2        3  M02148361       00:03:48  OI7P6261\n",
       "3        4  M02143962       00:06:16  EA3H6562\n",
       "4        5  M02152784       00:04:38  UE9C4827"
      ]
     },
     "execution_count": 6,
     "metadata": {},
     "output_type": "execute_result"
    }
   ],
   "source": [
    "goals.head()"
   ]
  },
  {
   "cell_type": "markdown",
   "metadata": {
    "colab_type": "text",
    "id": "JfiJNPdPWf6Z"
   },
   "source": [
    "## Número de gols por jogador"
   ]
  },
  {
   "cell_type": "markdown",
   "metadata": {
    "colab_type": "text",
    "id": "-09HyN8SYQoG"
   },
   "source": [
    "Identificar em cada Partida:\n",
    "* Quem venceu e quem perdeu o jogo;\n",
    "* Quantos gols foram marcados por cada jogador;\n",
    "* Se a vitória foi fácil;"
   ]
  },
  {
   "cell_type": "markdown",
   "metadata": {
    "colab_type": "text",
    "id": "MYnYa_FlcNa2"
   },
   "source": [
    "### Inserindo colunas ['goals_players_1', 'goals_players_2', 'winner', 'defeated', 'easy_win'] no dataframe matches"
   ]
  },
  {
   "cell_type": "code",
   "execution_count": null,
   "metadata": {},
   "outputs": [],
   "source": [
    "for index, row in matches.iterrows():\n",
    "  goals_player_1 = goals.query(\"match_id == @row.match_id and player_id == @row.player_1\")['goal_id'].count()\n",
    "  goals_player_2 = goals.query(\"match_id == @row.match_id and player_id == @row.player_2\")['goal_id'].count()\n",
    "  winner = row.player_1 if goals_player_1 > goals_player_2 else row['player_2']\n",
    "  defeated = row.player_2 if goals_player_1 > goals_player_2 else row['player_1']\n",
    "  easy_win = abs(goals_player_1 - goals_player_2) > 4\n",
    "  matches.at[index, 'goals_player_1'] = goals_player_1\n",
    "  matches.at[index, 'goals_player_2'] = goals_player_2\n",
    "  matches.at[index, 'winner'] = winner\n",
    "  matches.at[index, 'defeated'] = defeated\n",
    "  matches.at[index, 'easy_win'] = easy_win"
   ]
  },
  {
   "cell_type": "code",
   "execution_count": 0,
   "metadata": {
    "colab": {},
    "colab_type": "code",
    "id": "1jN42R8B4XCM"
   },
   "outputs": [],
   "source": [
    "# matches.to_csv('matches_with_goals.csv')"
   ]
  },
  {
   "cell_type": "markdown",
   "metadata": {
    "colab_type": "text",
    "id": "xZa4G0_sM6AU"
   },
   "source": [
    "## Importando base 'matches_with_goals.csv'\n"
   ]
  },
  {
   "cell_type": "code",
   "execution_count": 7,
   "metadata": {
    "colab": {},
    "colab_type": "code",
    "id": "SweJDNkRHVyH"
   },
   "outputs": [],
   "source": [
    "matches = pd.read_csv('matches_with_goals.csv')"
   ]
  },
  {
   "cell_type": "code",
   "execution_count": 8,
   "metadata": {
    "colab": {
     "base_uri": "https://localhost:8080/",
     "height": 224
    },
    "colab_type": "code",
    "id": "q_d-0pxpncZ3",
    "outputId": "d6c0866b-6e7a-48dc-be23-6366fee03de1"
   },
   "outputs": [
    {
     "data": {
      "text/html": [
       "<div>\n",
       "<style scoped>\n",
       "    .dataframe tbody tr th:only-of-type {\n",
       "        vertical-align: middle;\n",
       "    }\n",
       "\n",
       "    .dataframe tbody tr th {\n",
       "        vertical-align: top;\n",
       "    }\n",
       "\n",
       "    .dataframe thead th {\n",
       "        text-align: right;\n",
       "    }\n",
       "</style>\n",
       "<table border=\"1\" class=\"dataframe\">\n",
       "  <thead>\n",
       "    <tr style=\"text-align: right;\">\n",
       "      <th></th>\n",
       "      <th>match_id</th>\n",
       "      <th>match_type</th>\n",
       "      <th>player_1</th>\n",
       "      <th>player_2</th>\n",
       "      <th>match_date</th>\n",
       "      <th>match_duration</th>\n",
       "      <th>goals_player_1</th>\n",
       "      <th>goals_player_2</th>\n",
       "      <th>winner</th>\n",
       "      <th>defeated</th>\n",
       "      <th>easy_win</th>\n",
       "    </tr>\n",
       "  </thead>\n",
       "  <tbody>\n",
       "    <tr>\n",
       "      <th>0</th>\n",
       "      <td>M02109295</td>\n",
       "      <td>Ranked</td>\n",
       "      <td>DA1X9864</td>\n",
       "      <td>IA8T7256</td>\n",
       "      <td>2019-05-20</td>\n",
       "      <td>00:10:00</td>\n",
       "      <td>5.0</td>\n",
       "      <td>0.0</td>\n",
       "      <td>DA1X9864</td>\n",
       "      <td>IA8T7256</td>\n",
       "      <td>True</td>\n",
       "    </tr>\n",
       "    <tr>\n",
       "      <th>1</th>\n",
       "      <td>M02109296</td>\n",
       "      <td>Casual</td>\n",
       "      <td>SZ0S2637</td>\n",
       "      <td>CK8P4729</td>\n",
       "      <td>2020-11-18</td>\n",
       "      <td>00:10:00</td>\n",
       "      <td>5.0</td>\n",
       "      <td>0.0</td>\n",
       "      <td>SZ0S2637</td>\n",
       "      <td>CK8P4729</td>\n",
       "      <td>True</td>\n",
       "    </tr>\n",
       "    <tr>\n",
       "      <th>2</th>\n",
       "      <td>M02109297</td>\n",
       "      <td>Ranked</td>\n",
       "      <td>QX0H6977</td>\n",
       "      <td>PK9E7375</td>\n",
       "      <td>2020-02-28</td>\n",
       "      <td>00:10:00</td>\n",
       "      <td>2.0</td>\n",
       "      <td>0.0</td>\n",
       "      <td>QX0H6977</td>\n",
       "      <td>PK9E7375</td>\n",
       "      <td>False</td>\n",
       "    </tr>\n",
       "    <tr>\n",
       "      <th>3</th>\n",
       "      <td>M02109298</td>\n",
       "      <td>Casual</td>\n",
       "      <td>BK3W3327</td>\n",
       "      <td>QZ7C5416</td>\n",
       "      <td>2019-07-01</td>\n",
       "      <td>00:10:00</td>\n",
       "      <td>3.0</td>\n",
       "      <td>0.0</td>\n",
       "      <td>BK3W3327</td>\n",
       "      <td>QZ7C5416</td>\n",
       "      <td>False</td>\n",
       "    </tr>\n",
       "    <tr>\n",
       "      <th>4</th>\n",
       "      <td>M02109299</td>\n",
       "      <td>Casual</td>\n",
       "      <td>EG5I9716</td>\n",
       "      <td>GN4N5747</td>\n",
       "      <td>2020-12-11</td>\n",
       "      <td>00:10:00</td>\n",
       "      <td>6.0</td>\n",
       "      <td>0.0</td>\n",
       "      <td>EG5I9716</td>\n",
       "      <td>GN4N5747</td>\n",
       "      <td>True</td>\n",
       "    </tr>\n",
       "  </tbody>\n",
       "</table>\n",
       "</div>"
      ],
      "text/plain": [
       "    match_id match_type  player_1  player_2  match_date match_duration  \\\n",
       "0  M02109295     Ranked  DA1X9864  IA8T7256  2019-05-20       00:10:00   \n",
       "1  M02109296     Casual  SZ0S2637  CK8P4729  2020-11-18       00:10:00   \n",
       "2  M02109297     Ranked  QX0H6977  PK9E7375  2020-02-28       00:10:00   \n",
       "3  M02109298     Casual  BK3W3327  QZ7C5416  2019-07-01       00:10:00   \n",
       "4  M02109299     Casual  EG5I9716  GN4N5747  2020-12-11       00:10:00   \n",
       "\n",
       "   goals_player_1  goals_player_2    winner  defeated  easy_win  \n",
       "0             5.0             0.0  DA1X9864  IA8T7256      True  \n",
       "1             5.0             0.0  SZ0S2637  CK8P4729      True  \n",
       "2             2.0             0.0  QX0H6977  PK9E7375     False  \n",
       "3             3.0             0.0  BK3W3327  QZ7C5416     False  \n",
       "4             6.0             0.0  EG5I9716  GN4N5747      True  "
      ]
     },
     "execution_count": 8,
     "metadata": {},
     "output_type": "execute_result"
    }
   ],
   "source": [
    "matches.head()"
   ]
  },
  {
   "cell_type": "markdown",
   "metadata": {
    "colab_type": "text",
    "id": "8nwhPVkfbDlY"
   },
   "source": [
    "## Identificando Todos os Usuários e criando novo DataFrame com as estatísticas de cada um"
   ]
  },
  {
   "cell_type": "code",
   "execution_count": 17,
   "metadata": {
    "colab": {},
    "colab_type": "code",
    "id": "k_iqoDApae0P"
   },
   "outputs": [],
   "source": [
    "players = pd.DataFrame(pd.unique(matches[['player_1', 'player_2']].values.ravel('K')))"
   ]
  },
  {
   "cell_type": "code",
   "execution_count": 18,
   "metadata": {
    "colab": {
     "base_uri": "https://localhost:8080/",
     "height": 204
    },
    "colab_type": "code",
    "id": "0ttGzaGNb0uL",
    "outputId": "fc8f6a5f-9ef5-4192-cb65-9af89ddfdd1e"
   },
   "outputs": [
    {
     "name": "stdout",
     "output_type": "stream",
     "text": [
      "<class 'pandas.core.frame.DataFrame'>\n",
      "RangeIndex: 10000 entries, 0 to 9999\n",
      "Data columns (total 1 columns):\n",
      " #   Column     Non-Null Count  Dtype \n",
      "---  ------     --------------  ----- \n",
      " 0   player_id  10000 non-null  object\n",
      "dtypes: object(1)\n",
      "memory usage: 78.2+ KB\n"
     ]
    }
   ],
   "source": [
    "players.columns = ['player_id']\n",
    "players.info()"
   ]
  },
  {
   "cell_type": "markdown",
   "metadata": {
    "colab_type": "text",
    "id": "hn5XbWH5k0qQ"
   },
   "source": [
    "### Contando número de empates"
   ]
  },
  {
   "cell_type": "code",
   "execution_count": 19,
   "metadata": {
    "colab": {
     "base_uri": "https://localhost:8080/",
     "height": 34
    },
    "colab_type": "code",
    "id": "k-g9E6s7lL99",
    "outputId": "7da1dc8a-262f-48f4-eb1d-b665925f057d"
   },
   "outputs": [
    {
     "data": {
      "text/html": [
       "<div>\n",
       "<style scoped>\n",
       "    .dataframe tbody tr th:only-of-type {\n",
       "        vertical-align: middle;\n",
       "    }\n",
       "\n",
       "    .dataframe tbody tr th {\n",
       "        vertical-align: top;\n",
       "    }\n",
       "\n",
       "    .dataframe thead th {\n",
       "        text-align: right;\n",
       "    }\n",
       "</style>\n",
       "<table border=\"1\" class=\"dataframe\">\n",
       "  <thead>\n",
       "    <tr style=\"text-align: right;\">\n",
       "      <th></th>\n",
       "      <th>match_id</th>\n",
       "      <th>match_type</th>\n",
       "      <th>player_1</th>\n",
       "      <th>player_2</th>\n",
       "      <th>match_date</th>\n",
       "      <th>match_duration</th>\n",
       "      <th>goals_player_1</th>\n",
       "      <th>goals_player_2</th>\n",
       "      <th>winner</th>\n",
       "      <th>defeated</th>\n",
       "      <th>easy_win</th>\n",
       "      <th>tied</th>\n",
       "    </tr>\n",
       "  </thead>\n",
       "  <tbody>\n",
       "    <tr>\n",
       "      <th>11</th>\n",
       "      <td>M02109306</td>\n",
       "      <td>Casual</td>\n",
       "      <td>DI5Z8931</td>\n",
       "      <td>ER0B3239</td>\n",
       "      <td>2020-12-20</td>\n",
       "      <td>00:10:00</td>\n",
       "      <td>0.0</td>\n",
       "      <td>0.0</td>\n",
       "      <td>-</td>\n",
       "      <td>-</td>\n",
       "      <td>False</td>\n",
       "      <td>True</td>\n",
       "    </tr>\n",
       "    <tr>\n",
       "      <th>272</th>\n",
       "      <td>M02109567</td>\n",
       "      <td>Casual</td>\n",
       "      <td>CK4J3439</td>\n",
       "      <td>IU0C4745</td>\n",
       "      <td>2019-03-29</td>\n",
       "      <td>00:10:00</td>\n",
       "      <td>0.0</td>\n",
       "      <td>0.0</td>\n",
       "      <td>-</td>\n",
       "      <td>-</td>\n",
       "      <td>False</td>\n",
       "      <td>True</td>\n",
       "    </tr>\n",
       "    <tr>\n",
       "      <th>310</th>\n",
       "      <td>M02109605</td>\n",
       "      <td>Casual</td>\n",
       "      <td>QQ2S6557</td>\n",
       "      <td>QQ2S6557</td>\n",
       "      <td>2019-07-08</td>\n",
       "      <td>00:10:00</td>\n",
       "      <td>5.0</td>\n",
       "      <td>5.0</td>\n",
       "      <td>-</td>\n",
       "      <td>-</td>\n",
       "      <td>False</td>\n",
       "      <td>True</td>\n",
       "    </tr>\n",
       "    <tr>\n",
       "      <th>331</th>\n",
       "      <td>M02109626</td>\n",
       "      <td>Casual</td>\n",
       "      <td>UU7F4156</td>\n",
       "      <td>TU0X6811</td>\n",
       "      <td>2019-09-23</td>\n",
       "      <td>00:10:00</td>\n",
       "      <td>0.0</td>\n",
       "      <td>0.0</td>\n",
       "      <td>-</td>\n",
       "      <td>-</td>\n",
       "      <td>False</td>\n",
       "      <td>True</td>\n",
       "    </tr>\n",
       "    <tr>\n",
       "      <th>532</th>\n",
       "      <td>M02109827</td>\n",
       "      <td>Casual</td>\n",
       "      <td>YY7P8486</td>\n",
       "      <td>DZ8P8886</td>\n",
       "      <td>2019-03-02</td>\n",
       "      <td>00:10:00</td>\n",
       "      <td>0.0</td>\n",
       "      <td>0.0</td>\n",
       "      <td>-</td>\n",
       "      <td>-</td>\n",
       "      <td>False</td>\n",
       "      <td>True</td>\n",
       "    </tr>\n",
       "    <tr>\n",
       "      <th>...</th>\n",
       "      <td>...</td>\n",
       "      <td>...</td>\n",
       "      <td>...</td>\n",
       "      <td>...</td>\n",
       "      <td>...</td>\n",
       "      <td>...</td>\n",
       "      <td>...</td>\n",
       "      <td>...</td>\n",
       "      <td>...</td>\n",
       "      <td>...</td>\n",
       "      <td>...</td>\n",
       "      <td>...</td>\n",
       "    </tr>\n",
       "    <tr>\n",
       "      <th>99324</th>\n",
       "      <td>M02208619</td>\n",
       "      <td>Casual</td>\n",
       "      <td>QM4S7539</td>\n",
       "      <td>WL2I9348</td>\n",
       "      <td>2019-04-19</td>\n",
       "      <td>00:10:00</td>\n",
       "      <td>0.0</td>\n",
       "      <td>0.0</td>\n",
       "      <td>-</td>\n",
       "      <td>-</td>\n",
       "      <td>False</td>\n",
       "      <td>True</td>\n",
       "    </tr>\n",
       "    <tr>\n",
       "      <th>99503</th>\n",
       "      <td>M02208798</td>\n",
       "      <td>Casual</td>\n",
       "      <td>QI0L6968</td>\n",
       "      <td>CS5G5255</td>\n",
       "      <td>2019-07-11</td>\n",
       "      <td>00:15:00</td>\n",
       "      <td>0.0</td>\n",
       "      <td>0.0</td>\n",
       "      <td>-</td>\n",
       "      <td>-</td>\n",
       "      <td>False</td>\n",
       "      <td>True</td>\n",
       "    </tr>\n",
       "    <tr>\n",
       "      <th>99557</th>\n",
       "      <td>M02208852</td>\n",
       "      <td>Ranked</td>\n",
       "      <td>MO0O7817</td>\n",
       "      <td>DD0N2982</td>\n",
       "      <td>2019-12-14</td>\n",
       "      <td>00:10:00</td>\n",
       "      <td>0.0</td>\n",
       "      <td>0.0</td>\n",
       "      <td>-</td>\n",
       "      <td>-</td>\n",
       "      <td>False</td>\n",
       "      <td>True</td>\n",
       "    </tr>\n",
       "    <tr>\n",
       "      <th>99563</th>\n",
       "      <td>M02208858</td>\n",
       "      <td>Casual</td>\n",
       "      <td>BK6L3571</td>\n",
       "      <td>UJ9C6129</td>\n",
       "      <td>2019-06-01</td>\n",
       "      <td>00:10:00</td>\n",
       "      <td>0.0</td>\n",
       "      <td>0.0</td>\n",
       "      <td>-</td>\n",
       "      <td>-</td>\n",
       "      <td>False</td>\n",
       "      <td>True</td>\n",
       "    </tr>\n",
       "    <tr>\n",
       "      <th>99595</th>\n",
       "      <td>M02208890</td>\n",
       "      <td>Ranked</td>\n",
       "      <td>GN4N5747</td>\n",
       "      <td>GI9G7799</td>\n",
       "      <td>2020-07-05</td>\n",
       "      <td>00:10:00</td>\n",
       "      <td>0.0</td>\n",
       "      <td>0.0</td>\n",
       "      <td>-</td>\n",
       "      <td>-</td>\n",
       "      <td>False</td>\n",
       "      <td>True</td>\n",
       "    </tr>\n",
       "  </tbody>\n",
       "</table>\n",
       "<p>516 rows × 12 columns</p>\n",
       "</div>"
      ],
      "text/plain": [
       "        match_id match_type  player_1  player_2  match_date match_duration  \\\n",
       "11     M02109306     Casual  DI5Z8931  ER0B3239  2020-12-20       00:10:00   \n",
       "272    M02109567     Casual  CK4J3439  IU0C4745  2019-03-29       00:10:00   \n",
       "310    M02109605     Casual  QQ2S6557  QQ2S6557  2019-07-08       00:10:00   \n",
       "331    M02109626     Casual  UU7F4156  TU0X6811  2019-09-23       00:10:00   \n",
       "532    M02109827     Casual  YY7P8486  DZ8P8886  2019-03-02       00:10:00   \n",
       "...          ...        ...       ...       ...         ...            ...   \n",
       "99324  M02208619     Casual  QM4S7539  WL2I9348  2019-04-19       00:10:00   \n",
       "99503  M02208798     Casual  QI0L6968  CS5G5255  2019-07-11       00:15:00   \n",
       "99557  M02208852     Ranked  MO0O7817  DD0N2982  2019-12-14       00:10:00   \n",
       "99563  M02208858     Casual  BK6L3571  UJ9C6129  2019-06-01       00:10:00   \n",
       "99595  M02208890     Ranked  GN4N5747  GI9G7799  2020-07-05       00:10:00   \n",
       "\n",
       "       goals_player_1  goals_player_2 winner defeated  easy_win  tied  \n",
       "11                0.0             0.0      -        -     False  True  \n",
       "272               0.0             0.0      -        -     False  True  \n",
       "310               5.0             5.0      -        -     False  True  \n",
       "331               0.0             0.0      -        -     False  True  \n",
       "532               0.0             0.0      -        -     False  True  \n",
       "...               ...             ...    ...      ...       ...   ...  \n",
       "99324             0.0             0.0      -        -     False  True  \n",
       "99503             0.0             0.0      -        -     False  True  \n",
       "99557             0.0             0.0      -        -     False  True  \n",
       "99563             0.0             0.0      -        -     False  True  \n",
       "99595             0.0             0.0      -        -     False  True  \n",
       "\n",
       "[516 rows x 12 columns]"
      ]
     },
     "execution_count": 19,
     "metadata": {},
     "output_type": "execute_result"
    }
   ],
   "source": [
    "matches[matches['goals_player_1'] == matches['goals_player_2']]"
   ]
  },
  {
   "cell_type": "code",
   "execution_count": 20,
   "metadata": {
    "colab_type": "text",
    "id": "gExx3YsolYgH"
   },
   "outputs": [],
   "source": [
    "matches['tied'] = matches['goals_player_1'] == matches['goals_player_2']"
   ]
  },
  {
   "cell_type": "code",
   "execution_count": 21,
   "metadata": {},
   "outputs": [],
   "source": [
    "for index, row in matches.iterrows():\n",
    "    if row['tied'] is True:\n",
    "        matches.at[index, 'winner'] = '-'\n",
    "        matches.at[index, 'defeated'] = '-'"
   ]
  },
  {
   "cell_type": "markdown",
   "metadata": {
    "colab_type": "text",
    "id": "ZIPF9ULkdl2r"
   },
   "source": [
    "## Identificar em cada Jogador:\n",
    "* Número de jogos;\n",
    "* Número de vitórias;\n",
    "* Número de derrotas;\n",
    "* Percentual de aproveitamento;\n",
    "* Número de goleadas aplicadas;\n",
    "* Número de goleadas sofridas;\n"
   ]
  },
  {
   "cell_type": "code",
   "execution_count": 22,
   "metadata": {
    "colab": {},
    "colab_type": "code",
    "id": "I9qtX9ppcPK0"
   },
   "outputs": [],
   "source": [
    "for index, row in players.iterrows():\n",
    "    matches_count = matches.query(\"player_1 == @row.player_id or player_2 == @row.player_id\")['match_id'].count()\n",
    "    wins_count = matches.query(\"winner == @row.player_id\")['match_id'].count()\n",
    "    easy_wins_count = matches.query(\"winner == @row.player_id and easy_win == True\")['match_id'].count()\n",
    "    defeated_count = matches.query(\"defeated == @row.player_id\")['match_id'].count()\n",
    "    easy_defeated_count = matches.query(\"defeated == @row.player_id and easy_win == True\")['match_id'].count()\n",
    "  \n",
    "    players.at[index, 'matches_count'] = matches_count\n",
    "    players.at[index, 'wins_count'] = wins_count\n",
    "    players.at[index, 'easy_wins_count'] = easy_wins_count\n",
    "    players.at[index, 'defeated_count'] = defeated_count\n",
    "    players.at[index, 'easy_defeated_count'] = easy_defeated_count\n",
    "    players.at[index, 'tied'] = matches_count - wins_count - defeated_count"
   ]
  },
  {
   "cell_type": "code",
   "execution_count": 28,
   "metadata": {
    "colab": {},
    "colab_type": "code",
    "id": "6e1G6Wd5of7z"
   },
   "outputs": [],
   "source": [
    "players['score'] = ((players['wins_count'] * 3) + players['tied']) / (players['matches_count'] * 3)"
   ]
  },
  {
   "cell_type": "code",
   "execution_count": 29,
   "metadata": {
    "colab": {},
    "colab_type": "code",
    "id": "7FMPT6crrXEI"
   },
   "outputs": [
    {
     "data": {
      "text/html": [
       "<div>\n",
       "<style scoped>\n",
       "    .dataframe tbody tr th:only-of-type {\n",
       "        vertical-align: middle;\n",
       "    }\n",
       "\n",
       "    .dataframe tbody tr th {\n",
       "        vertical-align: top;\n",
       "    }\n",
       "\n",
       "    .dataframe thead th {\n",
       "        text-align: right;\n",
       "    }\n",
       "</style>\n",
       "<table border=\"1\" class=\"dataframe\">\n",
       "  <thead>\n",
       "    <tr style=\"text-align: right;\">\n",
       "      <th></th>\n",
       "      <th>player_id</th>\n",
       "      <th>matches_count</th>\n",
       "      <th>wins_count</th>\n",
       "      <th>easy_wins_count</th>\n",
       "      <th>defeated_count</th>\n",
       "      <th>easy_defeated_count</th>\n",
       "      <th>tied</th>\n",
       "      <th>score</th>\n",
       "    </tr>\n",
       "  </thead>\n",
       "  <tbody>\n",
       "    <tr>\n",
       "      <th>0</th>\n",
       "      <td>DA1X9864</td>\n",
       "      <td>24.0</td>\n",
       "      <td>9.0</td>\n",
       "      <td>4.0</td>\n",
       "      <td>15.0</td>\n",
       "      <td>9.0</td>\n",
       "      <td>0.0</td>\n",
       "      <td>0.375000</td>\n",
       "    </tr>\n",
       "    <tr>\n",
       "      <th>1</th>\n",
       "      <td>SZ0S2637</td>\n",
       "      <td>22.0</td>\n",
       "      <td>14.0</td>\n",
       "      <td>10.0</td>\n",
       "      <td>8.0</td>\n",
       "      <td>6.0</td>\n",
       "      <td>0.0</td>\n",
       "      <td>0.636364</td>\n",
       "    </tr>\n",
       "    <tr>\n",
       "      <th>2</th>\n",
       "      <td>QX0H6977</td>\n",
       "      <td>20.0</td>\n",
       "      <td>11.0</td>\n",
       "      <td>7.0</td>\n",
       "      <td>8.0</td>\n",
       "      <td>7.0</td>\n",
       "      <td>1.0</td>\n",
       "      <td>0.566667</td>\n",
       "    </tr>\n",
       "    <tr>\n",
       "      <th>3</th>\n",
       "      <td>BK3W3327</td>\n",
       "      <td>14.0</td>\n",
       "      <td>11.0</td>\n",
       "      <td>6.0</td>\n",
       "      <td>3.0</td>\n",
       "      <td>3.0</td>\n",
       "      <td>0.0</td>\n",
       "      <td>0.785714</td>\n",
       "    </tr>\n",
       "    <tr>\n",
       "      <th>4</th>\n",
       "      <td>EG5I9716</td>\n",
       "      <td>22.0</td>\n",
       "      <td>12.0</td>\n",
       "      <td>9.0</td>\n",
       "      <td>10.0</td>\n",
       "      <td>7.0</td>\n",
       "      <td>0.0</td>\n",
       "      <td>0.545455</td>\n",
       "    </tr>\n",
       "  </tbody>\n",
       "</table>\n",
       "</div>"
      ],
      "text/plain": [
       "  player_id  matches_count  wins_count  easy_wins_count  defeated_count  \\\n",
       "0  DA1X9864           24.0         9.0              4.0            15.0   \n",
       "1  SZ0S2637           22.0        14.0             10.0             8.0   \n",
       "2  QX0H6977           20.0        11.0              7.0             8.0   \n",
       "3  BK3W3327           14.0        11.0              6.0             3.0   \n",
       "4  EG5I9716           22.0        12.0              9.0            10.0   \n",
       "\n",
       "   easy_defeated_count  tied     score  \n",
       "0                  9.0   0.0  0.375000  \n",
       "1                  6.0   0.0  0.636364  \n",
       "2                  7.0   1.0  0.566667  \n",
       "3                  3.0   0.0  0.785714  \n",
       "4                  7.0   0.0  0.545455  "
      ]
     },
     "execution_count": 29,
     "metadata": {},
     "output_type": "execute_result"
    }
   ],
   "source": [
    "players.head()"
   ]
  },
  {
   "cell_type": "markdown",
   "metadata": {},
   "source": [
    "## Verificando correlação das variáveis"
   ]
  },
  {
   "cell_type": "code",
   "execution_count": 30,
   "metadata": {
    "colab": {},
    "colab_type": "code",
    "id": "ZkjnDhS7rjiS",
    "scrolled": true
   },
   "outputs": [
    {
     "data": {
      "text/html": [
       "<div>\n",
       "<style scoped>\n",
       "    .dataframe tbody tr th:only-of-type {\n",
       "        vertical-align: middle;\n",
       "    }\n",
       "\n",
       "    .dataframe tbody tr th {\n",
       "        vertical-align: top;\n",
       "    }\n",
       "\n",
       "    .dataframe thead th {\n",
       "        text-align: right;\n",
       "    }\n",
       "</style>\n",
       "<table border=\"1\" class=\"dataframe\">\n",
       "  <thead>\n",
       "    <tr style=\"text-align: right;\">\n",
       "      <th></th>\n",
       "      <th>matches_count</th>\n",
       "      <th>wins_count</th>\n",
       "      <th>easy_wins_count</th>\n",
       "      <th>defeated_count</th>\n",
       "      <th>easy_defeated_count</th>\n",
       "      <th>tied</th>\n",
       "      <th>score</th>\n",
       "    </tr>\n",
       "  </thead>\n",
       "  <tbody>\n",
       "    <tr>\n",
       "      <th>matches_count</th>\n",
       "      <td>1.000000</td>\n",
       "      <td>0.698680</td>\n",
       "      <td>0.540964</td>\n",
       "      <td>0.712808</td>\n",
       "      <td>0.564070</td>\n",
       "      <td>0.059870</td>\n",
       "      <td>-0.013523</td>\n",
       "    </tr>\n",
       "    <tr>\n",
       "      <th>wins_count</th>\n",
       "      <td>0.698680</td>\n",
       "      <td>1.000000</td>\n",
       "      <td>0.774689</td>\n",
       "      <td>0.001257</td>\n",
       "      <td>0.007334</td>\n",
       "      <td>-0.007464</td>\n",
       "      <td>0.686482</td>\n",
       "    </tr>\n",
       "    <tr>\n",
       "      <th>easy_wins_count</th>\n",
       "      <td>0.540964</td>\n",
       "      <td>0.774689</td>\n",
       "      <td>1.000000</td>\n",
       "      <td>0.000708</td>\n",
       "      <td>0.003388</td>\n",
       "      <td>-0.007292</td>\n",
       "      <td>0.532047</td>\n",
       "    </tr>\n",
       "    <tr>\n",
       "      <th>defeated_count</th>\n",
       "      <td>0.712808</td>\n",
       "      <td>0.001257</td>\n",
       "      <td>0.000708</td>\n",
       "      <td>1.000000</td>\n",
       "      <td>0.785387</td>\n",
       "      <td>-0.007914</td>\n",
       "      <td>-0.689668</td>\n",
       "    </tr>\n",
       "    <tr>\n",
       "      <th>easy_defeated_count</th>\n",
       "      <td>0.564070</td>\n",
       "      <td>0.007334</td>\n",
       "      <td>0.003388</td>\n",
       "      <td>0.785387</td>\n",
       "      <td>1.000000</td>\n",
       "      <td>-0.008920</td>\n",
       "      <td>-0.536226</td>\n",
       "    </tr>\n",
       "    <tr>\n",
       "      <th>tied</th>\n",
       "      <td>0.059870</td>\n",
       "      <td>-0.007464</td>\n",
       "      <td>-0.007292</td>\n",
       "      <td>-0.007914</td>\n",
       "      <td>-0.008920</td>\n",
       "      <td>1.000000</td>\n",
       "      <td>-0.021502</td>\n",
       "    </tr>\n",
       "    <tr>\n",
       "      <th>score</th>\n",
       "      <td>-0.013523</td>\n",
       "      <td>0.686482</td>\n",
       "      <td>0.532047</td>\n",
       "      <td>-0.689668</td>\n",
       "      <td>-0.536226</td>\n",
       "      <td>-0.021502</td>\n",
       "      <td>1.000000</td>\n",
       "    </tr>\n",
       "  </tbody>\n",
       "</table>\n",
       "</div>"
      ],
      "text/plain": [
       "                     matches_count  wins_count  easy_wins_count  \\\n",
       "matches_count             1.000000    0.698680         0.540964   \n",
       "wins_count                0.698680    1.000000         0.774689   \n",
       "easy_wins_count           0.540964    0.774689         1.000000   \n",
       "defeated_count            0.712808    0.001257         0.000708   \n",
       "easy_defeated_count       0.564070    0.007334         0.003388   \n",
       "tied                      0.059870   -0.007464        -0.007292   \n",
       "score                    -0.013523    0.686482         0.532047   \n",
       "\n",
       "                     defeated_count  easy_defeated_count      tied     score  \n",
       "matches_count              0.712808             0.564070  0.059870 -0.013523  \n",
       "wins_count                 0.001257             0.007334 -0.007464  0.686482  \n",
       "easy_wins_count            0.000708             0.003388 -0.007292  0.532047  \n",
       "defeated_count             1.000000             0.785387 -0.007914 -0.689668  \n",
       "easy_defeated_count        0.785387             1.000000 -0.008920 -0.536226  \n",
       "tied                      -0.007914            -0.008920  1.000000 -0.021502  \n",
       "score                     -0.689668            -0.536226 -0.021502  1.000000  "
      ]
     },
     "execution_count": 30,
     "metadata": {},
     "output_type": "execute_result"
    }
   ],
   "source": [
    "players.corr()"
   ]
  },
  {
   "cell_type": "code",
   "execution_count": 31,
   "metadata": {
    "colab": {
     "base_uri": "https://localhost:8080/",
     "height": 163
    },
    "colab_type": "code",
    "id": "_aDFs2y2skqk",
    "outputId": "a922f083-424c-48eb-a635-51f384e9cc83"
   },
   "outputs": [],
   "source": [
    "# players.to_csv('players.csv', index=False)"
   ]
  },
  {
   "cell_type": "code",
   "execution_count": 32,
   "metadata": {
    "colab": {},
    "colab_type": "code",
    "id": "lO_V-Csdfgqa"
   },
   "outputs": [],
   "source": [
    "players = pd.read_csv('players.csv')"
   ]
  },
  {
   "cell_type": "code",
   "execution_count": 33,
   "metadata": {
    "colab": {
     "base_uri": "https://localhost:8080/",
     "height": 297
    },
    "colab_type": "code",
    "id": "0HCmSdHagdIv",
    "outputId": "524a7490-152f-4a63-a6b4-42c758fa2e70"
   },
   "outputs": [
    {
     "data": {
      "text/html": [
       "<div>\n",
       "<style scoped>\n",
       "    .dataframe tbody tr th:only-of-type {\n",
       "        vertical-align: middle;\n",
       "    }\n",
       "\n",
       "    .dataframe tbody tr th {\n",
       "        vertical-align: top;\n",
       "    }\n",
       "\n",
       "    .dataframe thead th {\n",
       "        text-align: right;\n",
       "    }\n",
       "</style>\n",
       "<table border=\"1\" class=\"dataframe\">\n",
       "  <thead>\n",
       "    <tr style=\"text-align: right;\">\n",
       "      <th></th>\n",
       "      <th>matches_count</th>\n",
       "      <th>wins_count</th>\n",
       "      <th>easy_wins_count</th>\n",
       "      <th>defeated_count</th>\n",
       "      <th>easy_defeated_count</th>\n",
       "      <th>tied</th>\n",
       "      <th>score</th>\n",
       "    </tr>\n",
       "  </thead>\n",
       "  <tbody>\n",
       "    <tr>\n",
       "      <th>count</th>\n",
       "      <td>10000.000000</td>\n",
       "      <td>10000.000000</td>\n",
       "      <td>10000.000000</td>\n",
       "      <td>10000.000000</td>\n",
       "      <td>10000.000000</td>\n",
       "      <td>10000.000000</td>\n",
       "      <td>10000.000000</td>\n",
       "    </tr>\n",
       "    <tr>\n",
       "      <th>mean</th>\n",
       "      <td>19.998900</td>\n",
       "      <td>9.948400</td>\n",
       "      <td>6.040100</td>\n",
       "      <td>9.948400</td>\n",
       "      <td>6.040100</td>\n",
       "      <td>0.102100</td>\n",
       "      <td>0.499494</td>\n",
       "    </tr>\n",
       "    <tr>\n",
       "      <th>std</th>\n",
       "      <td>4.459943</td>\n",
       "      <td>3.114435</td>\n",
       "      <td>2.432382</td>\n",
       "      <td>3.177664</td>\n",
       "      <td>2.450733</td>\n",
       "      <td>0.315413</td>\n",
       "      <td>0.114237</td>\n",
       "    </tr>\n",
       "    <tr>\n",
       "      <th>min</th>\n",
       "      <td>5.000000</td>\n",
       "      <td>1.000000</td>\n",
       "      <td>0.000000</td>\n",
       "      <td>0.000000</td>\n",
       "      <td>0.000000</td>\n",
       "      <td>0.000000</td>\n",
       "      <td>0.062500</td>\n",
       "    </tr>\n",
       "    <tr>\n",
       "      <th>25%</th>\n",
       "      <td>17.000000</td>\n",
       "      <td>8.000000</td>\n",
       "      <td>4.000000</td>\n",
       "      <td>8.000000</td>\n",
       "      <td>4.000000</td>\n",
       "      <td>0.000000</td>\n",
       "      <td>0.423077</td>\n",
       "    </tr>\n",
       "    <tr>\n",
       "      <th>50%</th>\n",
       "      <td>20.000000</td>\n",
       "      <td>10.000000</td>\n",
       "      <td>6.000000</td>\n",
       "      <td>10.000000</td>\n",
       "      <td>6.000000</td>\n",
       "      <td>0.000000</td>\n",
       "      <td>0.500000</td>\n",
       "    </tr>\n",
       "    <tr>\n",
       "      <th>75%</th>\n",
       "      <td>23.000000</td>\n",
       "      <td>12.000000</td>\n",
       "      <td>8.000000</td>\n",
       "      <td>12.000000</td>\n",
       "      <td>8.000000</td>\n",
       "      <td>0.000000</td>\n",
       "      <td>0.576923</td>\n",
       "    </tr>\n",
       "    <tr>\n",
       "      <th>max</th>\n",
       "      <td>37.000000</td>\n",
       "      <td>24.000000</td>\n",
       "      <td>20.000000</td>\n",
       "      <td>25.000000</td>\n",
       "      <td>17.000000</td>\n",
       "      <td>3.000000</td>\n",
       "      <td>1.000000</td>\n",
       "    </tr>\n",
       "  </tbody>\n",
       "</table>\n",
       "</div>"
      ],
      "text/plain": [
       "       matches_count    wins_count  easy_wins_count  defeated_count  \\\n",
       "count   10000.000000  10000.000000     10000.000000    10000.000000   \n",
       "mean       19.998900      9.948400         6.040100        9.948400   \n",
       "std         4.459943      3.114435         2.432382        3.177664   \n",
       "min         5.000000      1.000000         0.000000        0.000000   \n",
       "25%        17.000000      8.000000         4.000000        8.000000   \n",
       "50%        20.000000     10.000000         6.000000       10.000000   \n",
       "75%        23.000000     12.000000         8.000000       12.000000   \n",
       "max        37.000000     24.000000        20.000000       25.000000   \n",
       "\n",
       "       easy_defeated_count          tied         score  \n",
       "count         10000.000000  10000.000000  10000.000000  \n",
       "mean              6.040100      0.102100      0.499494  \n",
       "std               2.450733      0.315413      0.114237  \n",
       "min               0.000000      0.000000      0.062500  \n",
       "25%               4.000000      0.000000      0.423077  \n",
       "50%               6.000000      0.000000      0.500000  \n",
       "75%               8.000000      0.000000      0.576923  \n",
       "max              17.000000      3.000000      1.000000  "
      ]
     },
     "execution_count": 33,
     "metadata": {},
     "output_type": "execute_result"
    }
   ],
   "source": [
    "players.describe()"
   ]
  },
  {
   "cell_type": "code",
   "execution_count": 34,
   "metadata": {
    "colab": {
     "base_uri": "https://localhost:8080/",
     "height": 204
    },
    "colab_type": "code",
    "id": "sn6lYeJeiDp6",
    "outputId": "7f0eda10-4bcf-44e2-b06e-ccfb8309bcb1"
   },
   "outputs": [
    {
     "data": {
      "text/html": [
       "<div>\n",
       "<style scoped>\n",
       "    .dataframe tbody tr th:only-of-type {\n",
       "        vertical-align: middle;\n",
       "    }\n",
       "\n",
       "    .dataframe tbody tr th {\n",
       "        vertical-align: top;\n",
       "    }\n",
       "\n",
       "    .dataframe thead th {\n",
       "        text-align: right;\n",
       "    }\n",
       "</style>\n",
       "<table border=\"1\" class=\"dataframe\">\n",
       "  <thead>\n",
       "    <tr style=\"text-align: right;\">\n",
       "      <th></th>\n",
       "      <th>player_id</th>\n",
       "      <th>matches_count</th>\n",
       "      <th>wins_count</th>\n",
       "      <th>easy_wins_count</th>\n",
       "      <th>defeated_count</th>\n",
       "      <th>easy_defeated_count</th>\n",
       "      <th>tied</th>\n",
       "      <th>score</th>\n",
       "    </tr>\n",
       "  </thead>\n",
       "  <tbody>\n",
       "    <tr>\n",
       "      <th>0</th>\n",
       "      <td>DA1X9864</td>\n",
       "      <td>24.0</td>\n",
       "      <td>9.0</td>\n",
       "      <td>4.0</td>\n",
       "      <td>15.0</td>\n",
       "      <td>9.0</td>\n",
       "      <td>0.0</td>\n",
       "      <td>0.375000</td>\n",
       "    </tr>\n",
       "    <tr>\n",
       "      <th>1</th>\n",
       "      <td>SZ0S2637</td>\n",
       "      <td>22.0</td>\n",
       "      <td>14.0</td>\n",
       "      <td>10.0</td>\n",
       "      <td>8.0</td>\n",
       "      <td>6.0</td>\n",
       "      <td>0.0</td>\n",
       "      <td>0.636364</td>\n",
       "    </tr>\n",
       "    <tr>\n",
       "      <th>2</th>\n",
       "      <td>QX0H6977</td>\n",
       "      <td>20.0</td>\n",
       "      <td>11.0</td>\n",
       "      <td>7.0</td>\n",
       "      <td>8.0</td>\n",
       "      <td>7.0</td>\n",
       "      <td>1.0</td>\n",
       "      <td>0.566667</td>\n",
       "    </tr>\n",
       "    <tr>\n",
       "      <th>3</th>\n",
       "      <td>BK3W3327</td>\n",
       "      <td>14.0</td>\n",
       "      <td>11.0</td>\n",
       "      <td>6.0</td>\n",
       "      <td>3.0</td>\n",
       "      <td>3.0</td>\n",
       "      <td>0.0</td>\n",
       "      <td>0.785714</td>\n",
       "    </tr>\n",
       "    <tr>\n",
       "      <th>4</th>\n",
       "      <td>EG5I9716</td>\n",
       "      <td>22.0</td>\n",
       "      <td>12.0</td>\n",
       "      <td>9.0</td>\n",
       "      <td>10.0</td>\n",
       "      <td>7.0</td>\n",
       "      <td>0.0</td>\n",
       "      <td>0.545455</td>\n",
       "    </tr>\n",
       "  </tbody>\n",
       "</table>\n",
       "</div>"
      ],
      "text/plain": [
       "  player_id  matches_count  wins_count  easy_wins_count  defeated_count  \\\n",
       "0  DA1X9864           24.0         9.0              4.0            15.0   \n",
       "1  SZ0S2637           22.0        14.0             10.0             8.0   \n",
       "2  QX0H6977           20.0        11.0              7.0             8.0   \n",
       "3  BK3W3327           14.0        11.0              6.0             3.0   \n",
       "4  EG5I9716           22.0        12.0              9.0            10.0   \n",
       "\n",
       "   easy_defeated_count  tied     score  \n",
       "0                  9.0   0.0  0.375000  \n",
       "1                  6.0   0.0  0.636364  \n",
       "2                  7.0   1.0  0.566667  \n",
       "3                  3.0   0.0  0.785714  \n",
       "4                  7.0   0.0  0.545455  "
      ]
     },
     "execution_count": 34,
     "metadata": {},
     "output_type": "execute_result"
    }
   ],
   "source": [
    "players.head()"
   ]
  },
  {
   "cell_type": "markdown",
   "metadata": {},
   "source": [
    "## Buscando dados da API"
   ]
  },
  {
   "cell_type": "code",
   "execution_count": 35,
   "metadata": {
    "scrolled": false
   },
   "outputs": [],
   "source": [
    "skip = 0\n",
    "has_more = True\n",
    "players_api = pd.DataFrame()\n",
    "while has_more is True:\n",
    "    result = requests.get('https://api.desafio.online/v1/players/?skip='+str(skip))\n",
    "    result = result.json()\n",
    "    has_more = result['metadata']['has_more']\n",
    "    df = pd.DataFrame(result['body'])\n",
    "    concat_df = [players_api, df]\n",
    "    players_api = pd.concat(concat_df)\n",
    "    skip = skip + 200"
   ]
  },
  {
   "cell_type": "code",
   "execution_count": 36,
   "metadata": {},
   "outputs": [
    {
     "name": "stdout",
     "output_type": "stream",
     "text": [
      "<class 'pandas.core.frame.DataFrame'>\n",
      "Int64Index: 10000 entries, 0 to 199\n",
      "Data columns (total 5 columns):\n",
      " #   Column       Non-Null Count  Dtype \n",
      "---  ------       --------------  ----- \n",
      " 0   player_name  10000 non-null  object\n",
      " 1   email        10000 non-null  object\n",
      " 2   player_id    10000 non-null  object\n",
      " 3   country      10000 non-null  object\n",
      " 4   last_login   10000 non-null  object\n",
      "dtypes: object(5)\n",
      "memory usage: 468.8+ KB\n"
     ]
    }
   ],
   "source": [
    "players_api.info()"
   ]
  },
  {
   "cell_type": "code",
   "execution_count": 37,
   "metadata": {
    "scrolled": true
   },
   "outputs": [
    {
     "data": {
      "text/plain": [
       "KA0N8737    1\n",
       "VK9T2467    1\n",
       "TW4F9167    1\n",
       "PB8C8711    1\n",
       "DT0M3476    1\n",
       "           ..\n",
       "DE3C5292    1\n",
       "PR5C2919    1\n",
       "YJ8X3721    1\n",
       "TE7F1489    1\n",
       "HZ0M9931    1\n",
       "Name: player_id, Length: 10000, dtype: int64"
      ]
     },
     "execution_count": 37,
     "metadata": {},
     "output_type": "execute_result"
    }
   ],
   "source": [
    "players_api['player_id'].value_counts()"
   ]
  },
  {
   "cell_type": "markdown",
   "metadata": {},
   "source": [
    "## Unindo dados da API com os dados criados dos jogadores"
   ]
  },
  {
   "cell_type": "code",
   "execution_count": 38,
   "metadata": {},
   "outputs": [],
   "source": [
    "players_merged = pd.merge(players, players_api, on='player_id', how='inner')"
   ]
  },
  {
   "cell_type": "code",
   "execution_count": 39,
   "metadata": {},
   "outputs": [
    {
     "name": "stdout",
     "output_type": "stream",
     "text": [
      "<class 'pandas.core.frame.DataFrame'>\n",
      "Int64Index: 10000 entries, 0 to 9999\n",
      "Data columns (total 12 columns):\n",
      " #   Column               Non-Null Count  Dtype  \n",
      "---  ------               --------------  -----  \n",
      " 0   player_id            10000 non-null  object \n",
      " 1   matches_count        10000 non-null  float64\n",
      " 2   wins_count           10000 non-null  float64\n",
      " 3   easy_wins_count      10000 non-null  float64\n",
      " 4   defeated_count       10000 non-null  float64\n",
      " 5   easy_defeated_count  10000 non-null  float64\n",
      " 6   tied                 10000 non-null  float64\n",
      " 7   score                10000 non-null  float64\n",
      " 8   player_name          10000 non-null  object \n",
      " 9   email                10000 non-null  object \n",
      " 10  country              10000 non-null  object \n",
      " 11  last_login           10000 non-null  object \n",
      "dtypes: float64(7), object(5)\n",
      "memory usage: 1015.6+ KB\n"
     ]
    }
   ],
   "source": [
    "players_merged.info()"
   ]
  },
  {
   "cell_type": "code",
   "execution_count": 40,
   "metadata": {},
   "outputs": [
    {
     "data": {
      "text/html": [
       "<div>\n",
       "<style scoped>\n",
       "    .dataframe tbody tr th:only-of-type {\n",
       "        vertical-align: middle;\n",
       "    }\n",
       "\n",
       "    .dataframe tbody tr th {\n",
       "        vertical-align: top;\n",
       "    }\n",
       "\n",
       "    .dataframe thead th {\n",
       "        text-align: right;\n",
       "    }\n",
       "</style>\n",
       "<table border=\"1\" class=\"dataframe\">\n",
       "  <thead>\n",
       "    <tr style=\"text-align: right;\">\n",
       "      <th></th>\n",
       "      <th>player_id</th>\n",
       "      <th>matches_count</th>\n",
       "      <th>wins_count</th>\n",
       "      <th>easy_wins_count</th>\n",
       "      <th>defeated_count</th>\n",
       "      <th>easy_defeated_count</th>\n",
       "      <th>tied</th>\n",
       "      <th>score</th>\n",
       "      <th>player_name</th>\n",
       "      <th>email</th>\n",
       "      <th>country</th>\n",
       "      <th>last_login</th>\n",
       "    </tr>\n",
       "  </thead>\n",
       "  <tbody>\n",
       "    <tr>\n",
       "      <th>0</th>\n",
       "      <td>DA1X9864</td>\n",
       "      <td>24.0</td>\n",
       "      <td>9.0</td>\n",
       "      <td>4.0</td>\n",
       "      <td>15.0</td>\n",
       "      <td>9.0</td>\n",
       "      <td>0.0</td>\n",
       "      <td>0.375000</td>\n",
       "      <td>Trisha Kessler</td>\n",
       "      <td>trisha_kessler@gmail.com</td>\n",
       "      <td>Myanmar (Burma)</td>\n",
       "      <td>2020-11-12</td>\n",
       "    </tr>\n",
       "    <tr>\n",
       "      <th>1</th>\n",
       "      <td>SZ0S2637</td>\n",
       "      <td>22.0</td>\n",
       "      <td>14.0</td>\n",
       "      <td>10.0</td>\n",
       "      <td>8.0</td>\n",
       "      <td>6.0</td>\n",
       "      <td>0.0</td>\n",
       "      <td>0.636364</td>\n",
       "      <td>Tangela Graver</td>\n",
       "      <td>tangela_g@gmail.com</td>\n",
       "      <td>Marshall Islands</td>\n",
       "      <td>2020-12-11</td>\n",
       "    </tr>\n",
       "    <tr>\n",
       "      <th>2</th>\n",
       "      <td>QX0H6977</td>\n",
       "      <td>20.0</td>\n",
       "      <td>11.0</td>\n",
       "      <td>7.0</td>\n",
       "      <td>8.0</td>\n",
       "      <td>7.0</td>\n",
       "      <td>1.0</td>\n",
       "      <td>0.566667</td>\n",
       "      <td>Eliseo Ewald</td>\n",
       "      <td>eliseo_ewald@gmail.com</td>\n",
       "      <td>Italy</td>\n",
       "      <td>2020-12-20</td>\n",
       "    </tr>\n",
       "    <tr>\n",
       "      <th>3</th>\n",
       "      <td>BK3W3327</td>\n",
       "      <td>14.0</td>\n",
       "      <td>11.0</td>\n",
       "      <td>6.0</td>\n",
       "      <td>3.0</td>\n",
       "      <td>3.0</td>\n",
       "      <td>0.0</td>\n",
       "      <td>0.785714</td>\n",
       "      <td>Bernardo Dieterich</td>\n",
       "      <td>dieterich.b@gmail.com</td>\n",
       "      <td>Cambodia</td>\n",
       "      <td>2020-10-11</td>\n",
       "    </tr>\n",
       "    <tr>\n",
       "      <th>4</th>\n",
       "      <td>EG5I9716</td>\n",
       "      <td>22.0</td>\n",
       "      <td>12.0</td>\n",
       "      <td>9.0</td>\n",
       "      <td>10.0</td>\n",
       "      <td>7.0</td>\n",
       "      <td>0.0</td>\n",
       "      <td>0.545455</td>\n",
       "      <td>Maurice Wilcoxson</td>\n",
       "      <td>wilcoxson_m@gmail.com</td>\n",
       "      <td>Marshall Islands</td>\n",
       "      <td>2020-12-11</td>\n",
       "    </tr>\n",
       "  </tbody>\n",
       "</table>\n",
       "</div>"
      ],
      "text/plain": [
       "  player_id  matches_count  wins_count  easy_wins_count  defeated_count  \\\n",
       "0  DA1X9864           24.0         9.0              4.0            15.0   \n",
       "1  SZ0S2637           22.0        14.0             10.0             8.0   \n",
       "2  QX0H6977           20.0        11.0              7.0             8.0   \n",
       "3  BK3W3327           14.0        11.0              6.0             3.0   \n",
       "4  EG5I9716           22.0        12.0              9.0            10.0   \n",
       "\n",
       "   easy_defeated_count  tied     score         player_name  \\\n",
       "0                  9.0   0.0  0.375000      Trisha Kessler   \n",
       "1                  6.0   0.0  0.636364      Tangela Graver   \n",
       "2                  7.0   1.0  0.566667        Eliseo Ewald   \n",
       "3                  3.0   0.0  0.785714  Bernardo Dieterich   \n",
       "4                  7.0   0.0  0.545455   Maurice Wilcoxson   \n",
       "\n",
       "                      email           country  last_login  \n",
       "0  trisha_kessler@gmail.com   Myanmar (Burma)  2020-11-12  \n",
       "1       tangela_g@gmail.com  Marshall Islands  2020-12-11  \n",
       "2    eliseo_ewald@gmail.com             Italy  2020-12-20  \n",
       "3     dieterich.b@gmail.com          Cambodia  2020-10-11  \n",
       "4     wilcoxson_m@gmail.com  Marshall Islands  2020-12-11  "
      ]
     },
     "execution_count": 40,
     "metadata": {},
     "output_type": "execute_result"
    }
   ],
   "source": [
    "players_merged.head()"
   ]
  },
  {
   "cell_type": "markdown",
   "metadata": {},
   "source": [
    "## Exportando dados finais para aplicação dos modelos"
   ]
  },
  {
   "cell_type": "code",
   "execution_count": 41,
   "metadata": {},
   "outputs": [],
   "source": [
    "# players_merged.to_csv('players_merged.csv', index=False)"
   ]
  }
 ],
 "metadata": {
  "colab": {
   "collapsed_sections": [
    "ivyqHZUvPtsH",
    "7a8zx8ytPzDk",
    "MYnYa_FlcNa2",
    "gExx3YsolYgH"
   ],
   "name": "iclinic_desafio.ipynb",
   "provenance": [],
   "toc_visible": true
  },
  "kernelspec": {
   "display_name": "Python 3",
   "language": "python",
   "name": "python3"
  },
  "language_info": {
   "codemirror_mode": {
    "name": "ipython",
    "version": 3
   },
   "file_extension": ".py",
   "mimetype": "text/x-python",
   "name": "python",
   "nbconvert_exporter": "python",
   "pygments_lexer": "ipython3",
   "version": "3.7.6"
  }
 },
 "nbformat": 4,
 "nbformat_minor": 1
}
