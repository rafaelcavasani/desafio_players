{
 "cells": [
  {
   "cell_type": "markdown",
   "metadata": {},
   "source": [
    "# Importação das Bibliotecas"
   ]
  },
  {
   "cell_type": "code",
   "execution_count": 66,
   "metadata": {},
   "outputs": [],
   "source": [
    "import pandas as pd\n",
    "import numpy as np\n",
    "from sklearn.preprocessing import LabelEncoder, StandardScaler\n",
    "from sklearn.ensemble import RandomForestClassifier\n",
    "from sklearn.model_selection import cross_val_score"
   ]
  },
  {
   "cell_type": "markdown",
   "metadata": {},
   "source": [
    "# Importação da Base de Dados"
   ]
  },
  {
   "cell_type": "code",
   "execution_count": 67,
   "metadata": {},
   "outputs": [
    {
     "data": {
      "text/html": [
       "<div>\n",
       "<style scoped>\n",
       "    .dataframe tbody tr th:only-of-type {\n",
       "        vertical-align: middle;\n",
       "    }\n",
       "\n",
       "    .dataframe tbody tr th {\n",
       "        vertical-align: top;\n",
       "    }\n",
       "\n",
       "    .dataframe thead th {\n",
       "        text-align: right;\n",
       "    }\n",
       "</style>\n",
       "<table border=\"1\" class=\"dataframe\">\n",
       "  <thead>\n",
       "    <tr style=\"text-align: right;\">\n",
       "      <th></th>\n",
       "      <th>player_id</th>\n",
       "      <th>matches_count</th>\n",
       "      <th>wins_count</th>\n",
       "      <th>easy_wins_count</th>\n",
       "      <th>defeated_count</th>\n",
       "      <th>easy_defeated_count</th>\n",
       "      <th>tied</th>\n",
       "      <th>score</th>\n",
       "      <th>player_name</th>\n",
       "      <th>email</th>\n",
       "      <th>country</th>\n",
       "      <th>last_login</th>\n",
       "      <th>level</th>\n",
       "    </tr>\n",
       "  </thead>\n",
       "  <tbody>\n",
       "    <tr>\n",
       "      <th>0</th>\n",
       "      <td>DA1X9864</td>\n",
       "      <td>24.0</td>\n",
       "      <td>9.0</td>\n",
       "      <td>4.0</td>\n",
       "      <td>15.0</td>\n",
       "      <td>9.0</td>\n",
       "      <td>0.0</td>\n",
       "      <td>0.375000</td>\n",
       "      <td>Trisha Kessler</td>\n",
       "      <td>trisha_kessler@gmail.com</td>\n",
       "      <td>Myanmar (Burma)</td>\n",
       "      <td>2020-11-12</td>\n",
       "      <td>advanced</td>\n",
       "    </tr>\n",
       "    <tr>\n",
       "      <th>1</th>\n",
       "      <td>SZ0S2637</td>\n",
       "      <td>22.0</td>\n",
       "      <td>14.0</td>\n",
       "      <td>10.0</td>\n",
       "      <td>8.0</td>\n",
       "      <td>6.0</td>\n",
       "      <td>0.0</td>\n",
       "      <td>0.636364</td>\n",
       "      <td>Tangela Graver</td>\n",
       "      <td>tangela_g@gmail.com</td>\n",
       "      <td>Marshall Islands</td>\n",
       "      <td>2020-12-11</td>\n",
       "      <td>expert</td>\n",
       "    </tr>\n",
       "    <tr>\n",
       "      <th>2</th>\n",
       "      <td>QX0H6977</td>\n",
       "      <td>20.0</td>\n",
       "      <td>11.0</td>\n",
       "      <td>7.0</td>\n",
       "      <td>8.0</td>\n",
       "      <td>7.0</td>\n",
       "      <td>1.0</td>\n",
       "      <td>0.566667</td>\n",
       "      <td>Eliseo Ewald</td>\n",
       "      <td>eliseo_ewald@gmail.com</td>\n",
       "      <td>Italy</td>\n",
       "      <td>2020-12-20</td>\n",
       "      <td>expert</td>\n",
       "    </tr>\n",
       "    <tr>\n",
       "      <th>3</th>\n",
       "      <td>BK3W3327</td>\n",
       "      <td>14.0</td>\n",
       "      <td>11.0</td>\n",
       "      <td>6.0</td>\n",
       "      <td>3.0</td>\n",
       "      <td>3.0</td>\n",
       "      <td>0.0</td>\n",
       "      <td>0.785714</td>\n",
       "      <td>Bernardo Dieterich</td>\n",
       "      <td>dieterich.b@gmail.com</td>\n",
       "      <td>Cambodia</td>\n",
       "      <td>2020-10-11</td>\n",
       "      <td>intermediate</td>\n",
       "    </tr>\n",
       "    <tr>\n",
       "      <th>4</th>\n",
       "      <td>EG5I9716</td>\n",
       "      <td>22.0</td>\n",
       "      <td>12.0</td>\n",
       "      <td>9.0</td>\n",
       "      <td>10.0</td>\n",
       "      <td>7.0</td>\n",
       "      <td>0.0</td>\n",
       "      <td>0.545455</td>\n",
       "      <td>Maurice Wilcoxson</td>\n",
       "      <td>wilcoxson_m@gmail.com</td>\n",
       "      <td>Marshall Islands</td>\n",
       "      <td>2020-12-11</td>\n",
       "      <td>expert</td>\n",
       "    </tr>\n",
       "  </tbody>\n",
       "</table>\n",
       "</div>"
      ],
      "text/plain": [
       "  player_id  matches_count  wins_count  easy_wins_count  defeated_count  \\\n",
       "0  DA1X9864           24.0         9.0              4.0            15.0   \n",
       "1  SZ0S2637           22.0        14.0             10.0             8.0   \n",
       "2  QX0H6977           20.0        11.0              7.0             8.0   \n",
       "3  BK3W3327           14.0        11.0              6.0             3.0   \n",
       "4  EG5I9716           22.0        12.0              9.0            10.0   \n",
       "\n",
       "   easy_defeated_count  tied     score         player_name  \\\n",
       "0                  9.0   0.0  0.375000      Trisha Kessler   \n",
       "1                  6.0   0.0  0.636364      Tangela Graver   \n",
       "2                  7.0   1.0  0.566667        Eliseo Ewald   \n",
       "3                  3.0   0.0  0.785714  Bernardo Dieterich   \n",
       "4                  7.0   0.0  0.545455   Maurice Wilcoxson   \n",
       "\n",
       "                      email           country  last_login         level  \n",
       "0  trisha_kessler@gmail.com   Myanmar (Burma)  2020-11-12      advanced  \n",
       "1       tangela_g@gmail.com  Marshall Islands  2020-12-11        expert  \n",
       "2    eliseo_ewald@gmail.com             Italy  2020-12-20        expert  \n",
       "3     dieterich.b@gmail.com          Cambodia  2020-10-11  intermediate  \n",
       "4     wilcoxson_m@gmail.com  Marshall Islands  2020-12-11        expert  "
      ]
     },
     "execution_count": 67,
     "metadata": {},
     "output_type": "execute_result"
    }
   ],
   "source": [
    "players = pd.read_csv('players_classified.csv')\n",
    "players.head()"
   ]
  },
  {
   "cell_type": "code",
   "execution_count": 68,
   "metadata": {},
   "outputs": [
    {
     "name": "stdout",
     "output_type": "stream",
     "text": [
      "<class 'pandas.core.frame.DataFrame'>\n",
      "RangeIndex: 10000 entries, 0 to 9999\n",
      "Data columns (total 13 columns):\n",
      " #   Column               Non-Null Count  Dtype  \n",
      "---  ------               --------------  -----  \n",
      " 0   player_id            10000 non-null  object \n",
      " 1   matches_count        10000 non-null  float64\n",
      " 2   wins_count           10000 non-null  float64\n",
      " 3   easy_wins_count      10000 non-null  float64\n",
      " 4   defeated_count       10000 non-null  float64\n",
      " 5   easy_defeated_count  10000 non-null  float64\n",
      " 6   tied                 10000 non-null  float64\n",
      " 7   score                10000 non-null  float64\n",
      " 8   player_name          10000 non-null  object \n",
      " 9   email                10000 non-null  object \n",
      " 10  country              10000 non-null  object \n",
      " 11  last_login           10000 non-null  object \n",
      " 12  level                10000 non-null  object \n",
      "dtypes: float64(7), object(6)\n",
      "memory usage: 1015.8+ KB\n"
     ]
    }
   ],
   "source": [
    "players.info()"
   ]
  },
  {
   "cell_type": "code",
   "execution_count": 69,
   "metadata": {},
   "outputs": [
    {
     "data": {
      "text/plain": [
       "beginner        2828\n",
       "intermediate    2560\n",
       "expert          2546\n",
       "advanced        2066\n",
       "Name: level, dtype: int64"
      ]
     },
     "execution_count": 69,
     "metadata": {},
     "output_type": "execute_result"
    }
   ],
   "source": [
    "players.level.value_counts()"
   ]
  },
  {
   "cell_type": "markdown",
   "metadata": {},
   "source": [
    "# Separando Colunas para o treinamento"
   ]
  },
  {
   "cell_type": "code",
   "execution_count": 70,
   "metadata": {},
   "outputs": [],
   "source": [
    "variables = ['matches_count', 'easy_wins_count', 'easy_defeated_count', 'score']"
   ]
  },
  {
   "cell_type": "code",
   "execution_count": 71,
   "metadata": {},
   "outputs": [],
   "source": [
    "X = players[variables].values\n",
    "y = players['level'].values"
   ]
  },
  {
   "cell_type": "markdown",
   "metadata": {},
   "source": [
    "# Treinamento do Modelo - Random Forest"
   ]
  },
  {
   "cell_type": "code",
   "execution_count": 72,
   "metadata": {},
   "outputs": [],
   "source": [
    "rf_classifier = RandomForestClassifier(n_estimators=100, criterion='entropy')\n",
    "rf_results = cross_val_score(rf_classifier, X, y, cv=10)"
   ]
  },
  {
   "cell_type": "markdown",
   "metadata": {},
   "source": [
    "# Resultado de acertos no treinamento"
   ]
  },
  {
   "cell_type": "code",
   "execution_count": 73,
   "metadata": {},
   "outputs": [
    {
     "data": {
      "text/plain": [
       "98.72"
      ]
     },
     "execution_count": 73,
     "metadata": {},
     "output_type": "execute_result"
    }
   ],
   "source": [
    "rf_results.mean() * 100"
   ]
  },
  {
   "cell_type": "markdown",
   "metadata": {},
   "source": [
    "# Classificando novos jogadores"
   ]
  },
  {
   "cell_type": "code",
   "execution_count": 74,
   "metadata": {},
   "outputs": [
    {
     "data": {
      "text/plain": [
       "RandomForestClassifier(criterion='entropy')"
      ]
     },
     "execution_count": 74,
     "metadata": {},
     "output_type": "execute_result"
    }
   ],
   "source": [
    "rf_classifier.fit(X, y)"
   ]
  },
  {
   "cell_type": "markdown",
   "metadata": {},
   "source": [
    "Os valores na lista indicam: ['matches_count', 'easy_wins_count', 'easy_defeated_count', 'score']"
   ]
  },
  {
   "cell_type": "code",
   "execution_count": 75,
   "metadata": {},
   "outputs": [],
   "source": [
    "new_player_1 = np.array([[24,9,4,0.63]])\n",
    "predict_player_1 = rf_classifier.predict(new_player_1)\n",
    "\n",
    "new_player_2 = np.array([[4,0,0,0.23]])\n",
    "predict_player_2 = rf_classifier.predict(new_player_2)"
   ]
  },
  {
   "cell_type": "code",
   "execution_count": 76,
   "metadata": {
    "scrolled": false
   },
   "outputs": [
    {
     "name": "stdout",
     "output_type": "stream",
     "text": [
      "O novo jogador 1 é classificado como: expert.\n"
     ]
    }
   ],
   "source": [
    "print('O novo jogador 1 é classificado como: {}.'.format(predict_player_1[0]))"
   ]
  },
  {
   "cell_type": "code",
   "execution_count": 77,
   "metadata": {},
   "outputs": [
    {
     "name": "stdout",
     "output_type": "stream",
     "text": [
      "O novo jogador 2 é classificado como: beginner.\n"
     ]
    }
   ],
   "source": [
    "print('O novo jogador 2 é classificado como: {}.'.format(predict_player_2[0]))"
   ]
  },
  {
   "cell_type": "markdown",
   "metadata": {},
   "source": [
    "# Conclusão"
   ]
  },
  {
   "cell_type": "markdown",
   "metadata": {},
   "source": [
    "### Podemo usar a classificação realizada com a clusterização para classificar novos jogadores.\n",
    "\n",
    "Obs: Foi utilizado somente o algoritmo Rando Forest, pois ele obteve um ótimo resultado, mas é possível testar outros algorítmos de classificação existentes para comparação, como, por exemplo, redes neurais e o algoritmo XGBoost."
   ]
  }
 ],
 "metadata": {
  "kernelspec": {
   "display_name": "Python 3",
   "language": "python",
   "name": "python3"
  },
  "language_info": {
   "codemirror_mode": {
    "name": "ipython",
    "version": 3
   },
   "file_extension": ".py",
   "mimetype": "text/x-python",
   "name": "python",
   "nbconvert_exporter": "python",
   "pygments_lexer": "ipython3",
   "version": "3.7.6"
  }
 },
 "nbformat": 4,
 "nbformat_minor": 4
}
